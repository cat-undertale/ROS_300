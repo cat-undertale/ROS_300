{
 "cells": [
  {
   "cell_type": "code",
   "execution_count": null,
   "id": "7799f17d",
   "metadata": {},
   "outputs": [],
   "source": [
    "import socket\n",
    "host='127.0.0.1'\n",
    "port=5673\n",
    "s=socket.socket(socket.AF_INET,socket.SOCK_STREAM)#声明socket类型面向连接\n",
    "\n",
    "try:\n",
    "    s.connect((host,port))\n",
    "except Exception as e:\n",
    "    print('服务端不存在！')\n",
    "    sys.exit()\n",
    "\n",
    "while True:\n",
    "    conn=input('you say:')\n",
    "    s.sendall(conn.encode())\n",
    "    data=s.recv(2048)\n",
    "    data=data.decode()\n",
    "    print(\"接收到的数据:{}\".format(data))\n",
    "    if conn.lower==\"exit\":\n",
    "        break\n",
    "s.close()"
   ]
  },
  {
   "cell_type": "code",
   "execution_count": null,
   "id": "814219e7",
   "metadata": {},
   "outputs": [],
   "source": []
  }
 ],
 "metadata": {
  "kernelspec": {
   "display_name": "Python 3 (ipykernel)",
   "language": "python",
   "name": "python3"
  },
  "language_info": {
   "codemirror_mode": {
    "name": "ipython",
    "version": 3
   },
   "file_extension": ".py",
   "mimetype": "text/x-python",
   "name": "python",
   "nbconvert_exporter": "python",
   "pygments_lexer": "ipython3",
   "version": "3.8.17"
  }
 },
 "nbformat": 4,
 "nbformat_minor": 5
}
