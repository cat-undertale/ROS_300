{
 "cells": [
  {
   "cell_type": "markdown",
   "id": "7ed5a9d7",
   "metadata": {},
   "source": [
    "# 机器人实例创建"
   ]
  },
  {
   "cell_type": "code",
   "execution_count": 1,
   "id": "e557ca79",
   "metadata": {},
   "outputs": [],
   "source": [
    "import asyncio\n",
    "import lebai_sdk"
   ]
  },
  {
   "cell_type": "code",
   "execution_count": 2,
   "id": "560008bd",
   "metadata": {
    "scrolled": true
   },
   "outputs": [
    {
     "name": "stdout",
     "output_type": "stream",
     "text": [
      "[{'name': 'lebai-LLlzqh', 'mac': 'b4:4b:d6:5e:55:8c', 'ip': '192.168.0.50', 'online': True}]\n"
     ]
    }
   ],
   "source": [
    "print(await lebai_sdk.discover_devices(2))"
   ]
  },
  {
   "cell_type": "code",
   "execution_count": 3,
   "id": "070c0ab6",
   "metadata": {
    "scrolled": true
   },
   "outputs": [
    {
     "name": "stdout",
     "output_type": "stream",
     "text": [
      "<builtins.Robot object at 0x7f30fe769cb0>\n"
     ]
    }
   ],
   "source": [
    "robot_ip = \"192.168.0.50\" #设定机器人ip地址，需要根据机器人实际ip地址修改\n",
    "lebai = await lebai_sdk.connect(robot_ip, False) #创建实例\n",
    "#True是仿真模式\n",
    "print(lebai)"
   ]
  },
  {
   "cell_type": "code",
   "execution_count": 4,
   "id": "5b3084f8",
   "metadata": {},
   "outputs": [],
   "source": [
    "await lebai.start_sys() #启动手臂"
   ]
  },
  {
   "cell_type": "code",
   "execution_count": 5,
   "id": "e985a670",
   "metadata": {},
   "outputs": [],
   "source": [
    "# await lebai.stop_sys()"
   ]
  },
  {
   "cell_type": "markdown",
   "id": "704379a9",
   "metadata": {},
   "source": [
    "# 服务端处理"
   ]
  },
  {
   "cell_type": "markdown",
   "id": "60d55f8a",
   "metadata": {},
   "source": [
    "# 初始化函数 "
   ]
  },
  {
   "cell_type": "code",
   "execution_count": 6,
   "id": "8af212b8",
   "metadata": {},
   "outputs": [],
   "source": [
    "#归位官方初始位置\n",
    "async def return_pose():\n",
    "    print('正在开始初始化……')\n",
    "    await lebai.init_claw() #初始化夹爪\n",
    "    await lebai.start_sys() #启动手臂\n",
    "    joint_pose = [0,-1.05,1.05,0,1.57,0] #目标位姿关节数据\n",
    "    cartesian_pose = {'x' : -0.383, 'y' :-0.121, 'z' : 0.36, 'rz' : -1.57, 'ry' : 0, 'rx' : 1.57}#目标位姿笛卡尔数据\n",
    "    a = 0.5 #关节加速度 (rad/s2)\n",
    "    v = 0.2 #关节速度 (rad/s)\n",
    "    t = 0   #运动时间 (s)。 当 t > 0 时，参数速度 v 和加速度 a 无效\n",
    "    r = 0   #交融半径 (m)。用于指定路径的平滑效果\n",
    "    lebai.movej(joint_pose,a,v,t,r)\n",
    "    a = 0.3 #空间加速度 (m/s2)\n",
    "    v = 0.1 #空间速度 （m/s）\n",
    "    t = 0   #运动时间 (s)。 当 t > 0 时，参数速度 v 和加速度 a 无效\n",
    "    r = 0   #交融半径 (m)。用于指定路径的平滑效果\n",
    "    await lebai.movel(cartesian_pose,a,v,t,r) #直线运动 https://help.lebai.ltd/sdk/motion.html#%E7%9B%B4%E7%BA%BF%E8%BF%90%E5%8A%A8\n",
    "    lebai.wait_move() #等待运动完成\n",
    "    print('初始化归位完成')"
   ]
  },
  {
   "cell_type": "code",
   "execution_count": 7,
   "id": "ab71f08d",
   "metadata": {},
   "outputs": [
    {
     "name": "stdout",
     "output_type": "stream",
     "text": [
      "正在开始初始化……\n",
      "初始化归位完成\n"
     ]
    }
   ],
   "source": [
    "await return_pose()"
   ]
  },
  {
   "cell_type": "code",
   "execution_count": 8,
   "id": "002c841f",
   "metadata": {},
   "outputs": [],
   "source": [
    "#def start_ros():\n",
    "    "
   ]
  },
  {
   "cell_type": "code",
   "execution_count": 9,
   "id": "f87824d7",
   "metadata": {},
   "outputs": [],
   "source": [
    "#def stop_ros():"
   ]
  },
  {
   "cell_type": "markdown",
   "id": "36a8b38d",
   "metadata": {},
   "source": [
    "# 移动函数"
   ]
  },
  {
   "cell_type": "code",
   "execution_count": 10,
   "id": "b903f2c9",
   "metadata": {},
   "outputs": [],
   "source": [
    "#x+移动\n",
    "async def x_right():\n",
    "    print(\"往x+移动\")\n",
    "    data=await lebai.get_kin_data()\n",
    "    #print(data)\n",
    "    #print(data['actual_joint_pose'])\n",
    "    # joint_pose = [0,-1.05,1.05,0,1.57,0] #目标位姿关节数据\n",
    "    # cartesian_pose = {'x' : -0.383, 'y' :-0.121, 'z' : 0.36, 'rz' : -1.57, 'ry' : 0, 'rx' : 1.57}#目标位姿笛卡尔数据\n",
    "    print(\"法兰盘坐标：\")\n",
    "    dict_flange=data['actual_flange_pose']['position']\n",
    "    \n",
    "    print(\"欧拉角：\")\n",
    "    dict_euler_now=data['actual_flange_pose']['rotation']['euler_zyx']\n",
    "    print(dict_euler_now)\n",
    "    #print(type(k))\n",
    "    keys=['rz','ry','rx']\n",
    "    values=[dict_euler_now['z'],dict_euler_now['y'],dict_euler_now['x']]\n",
    "    dict_euler_target=dict(zip(keys,values))\n",
    "    print(dict_euler_target)\n",
    "    cartesian_pose={**dict_flange,**dict_euler_target}\n",
    "    #print(cartesian_pose)\n",
    "    #print(cartesian_pose['x'])\n",
    "    x=cartesian_pose['x']\n",
    "    print(x)\n",
    "    if(x+0.05<1):\n",
    "        cartesian_pose['x']=x+0.05\n",
    "    elif(x+0.05>1):\n",
    "        print(\"超出边界\")\n",
    "    \n",
    "    a = 0.3 #空间加速度 (m/s2)\n",
    "    v = 0.1 #空间速度 （m/s）\n",
    "    t = 0   #运动时间 (s)。 当 t > 0 时，参数速度 v 和加速度 a 无效\n",
    "    r = 0   #交融半径 (m)。用于指定路径的平滑效果\n",
    "    await lebai.movel(cartesian_pose,a,v,t,r) #直线运动 https://help.lebai.ltd/sdk/motion.html#%E7%9B%B4%E7%BA%BF%E8%BF%90%E5%8A%A8\n",
    "    lebai.wait_move() #等待运动完成\n",
    "    print(\"x+移动完成\")\n",
    "    "
   ]
  },
  {
   "cell_type": "code",
   "execution_count": 11,
   "id": "6695b48c",
   "metadata": {},
   "outputs": [],
   "source": [
    "##x-移动\n",
    "async def x_left():\n",
    "    print(\"往x-移动\")\n",
    "    data=await lebai.get_kin_data()\n",
    "    #print(data)\n",
    "    #print(data['actual_joint_pose'])\n",
    "    # joint_pose = [0,-1.05,1.05,0,1.57,0] #目标位姿关节数据\n",
    "    # cartesian_pose = {'x' : -0.383, 'y' :-0.121, 'z' : 0.36, 'rz' : -1.57, 'ry' : 0, 'rx' : 1.57}#目标位姿笛卡尔数据\n",
    "    print(\"法兰盘坐标：\")\n",
    "    dict_flange=data['actual_flange_pose']['position']\n",
    "    \n",
    "    print(\"欧拉角：\")\n",
    "    dict_euler_now=data['actual_flange_pose']['rotation']['euler_zyx']\n",
    "    print(dict_euler_now)\n",
    "    #print(type(k))\n",
    "    keys=['rz','ry','rx']\n",
    "    values=[dict_euler_now['z'],dict_euler_now['y'],dict_euler_now['x']]\n",
    "    dict_euler_target=dict(zip(keys,values))\n",
    "    print(dict_euler_target)\n",
    "    cartesian_pose={**dict_flange,**dict_euler_target}\n",
    "    #print(cartesian_pose)\n",
    "    #print(cartesian_pose['x'])\n",
    "    x=cartesian_pose['x']\n",
    "    #边界检测\n",
    "    print(x)\n",
    "    if(x-0.05>-2):\n",
    "        cartesian_pose['x']=x-0.05\n",
    "    elif(x-0.05<-2):\n",
    "        print(\"超出边界\")\n",
    "    \n",
    "    a = 0.3 #空间加速度 (m/s2)\n",
    "    v = 0.1 #空间速度 （m/s）\n",
    "    t = 0   #运动时间 (s)。 当 t > 0 时，参数速度 v 和加速度 a 无效\n",
    "    r = 0   #交融半径 (m)。用于指定路径的平滑效果\n",
    "    lebai.movel(cartesian_pose,a,v,t,r) #直线运动 https://help.lebai.ltd/sdk/motion.html#%E7%9B%B4%E7%BA%BF%E8%BF%90%E5%8A%A8\n",
    "    lebai.wait_move() #等待运动完成\n",
    "    print(\"x-移动完成\")\n",
    "    "
   ]
  },
  {
   "cell_type": "code",
   "execution_count": 12,
   "id": "9423c2c2",
   "metadata": {},
   "outputs": [],
   "source": [
    "#y+移动\n",
    "async def y_right():\n",
    "    print(\"往y+移动\")\n",
    "    data=await lebai.get_kin_data()\n",
    "    #print(data)\n",
    "    #print(data['actual_joint_pose'])\n",
    "    # joint_pose = [0,-1.05,1.05,0,1.57,0] #目标位姿关节数据\n",
    "    # cartesian_pose = {'x' : -0.383, 'y' :-0.121, 'z' : 0.36, 'rz' : -1.57, 'ry' : 0, 'rx' : 1.57}#目标位姿笛卡尔数据\n",
    "    print(\"法兰盘坐标：\")\n",
    "    dict_flange=data['actual_flange_pose']['position']\n",
    "    \n",
    "    print(\"欧拉角：\")\n",
    "    dict_euler_now=data['actual_flange_pose']['rotation']['euler_zyx']\n",
    "    print(dict_euler_now)\n",
    "    #print(type(k))\n",
    "    keys=['rz','ry','rx']\n",
    "    values=[dict_euler_now['z'],dict_euler_now['y'],dict_euler_now['x']]\n",
    "    dict_euler_target=dict(zip(keys,values))\n",
    "    print(dict_euler_target)\n",
    "    cartesian_pose={**dict_flange,**dict_euler_target}\n",
    "    #print(cartesian_pose)\n",
    "    #print(cartesian_pose['x'])\n",
    "    y=cartesian_pose['y']\n",
    "    print(y)\n",
    "    if(y+0.05<2):\n",
    "        cartesian_pose['y']=y+0.05\n",
    "    elif(y+0.05>2):\n",
    "        print(\"超出边界\")\n",
    "    \n",
    "    a = 0.3 #空间加速度 (m/s2)\n",
    "    v = 0.1 #空间速度 （m/s）\n",
    "    t = 0   #运动时间 (s)。 当 t > 0 时，参数速度 v 和加速度 a 无效\n",
    "    r = 0   #交融半径 (m)。用于指定路径的平滑效果\n",
    "    lebai.movel(cartesian_pose,a,v,t,r) #直线运动 https://help.lebai.ltd/sdk/motion.html#%E7%9B%B4%E7%BA%BF%E8%BF%90%E5%8A%A8\n",
    "    lebai.wait_move() #等待运动完成\n",
    "    print(\"y+移动完成\")"
   ]
  },
  {
   "cell_type": "code",
   "execution_count": 13,
   "id": "02d6e92f",
   "metadata": {},
   "outputs": [],
   "source": [
    "#y-移动\n",
    "async def y_left():\n",
    "    print(\"往y-移动\")\n",
    "    data=await lebai.get_kin_data()\n",
    "    #print(data)\n",
    "    #print(data['actual_joint_pose'])\n",
    "    # joint_pose = [0,-1.05,1.05,0,1.57,0] #目标位姿关节数据\n",
    "    # cartesian_pose = {'x' : -0.383, 'y' :-0.121, 'z' : 0.36, 'rz' : -1.57, 'ry' : 0, 'rx' : 1.57}#目标位姿笛卡尔数据\n",
    "    print(\"法兰盘坐标：\")\n",
    "    dict_flange=data['actual_flange_pose']['position']\n",
    "    \n",
    "    print(\"欧拉角：\")\n",
    "    dict_euler_now=data['actual_flange_pose']['rotation']['euler_zyx']\n",
    "    print(dict_euler_now)\n",
    "    #print(type(k))\n",
    "    keys=['rz','ry','rx']\n",
    "    values=[dict_euler_now['z'],dict_euler_now['y'],dict_euler_now['x']]\n",
    "    dict_euler_target=dict(zip(keys,values))\n",
    "    print(dict_euler_target)\n",
    "    cartesian_pose={**dict_flange,**dict_euler_target}\n",
    "    #print(cartesian_pose)\n",
    "    #print(cartesian_pose['x'])\n",
    "    y=cartesian_pose['y']\n",
    "    print(y)\n",
    "    if(y-0.05>-2):\n",
    "        cartesian_pose['y']=y-0.05\n",
    "    elif(y-0.05<-2):\n",
    "        print(\"超出边界\")\n",
    "    \n",
    "    a = 0.3 #空间加速度 (m/s2)\n",
    "    v = 0.1 #空间速度 （m/s）\n",
    "    t = 0   #运动时间 (s)。 当 t > 0 时，参数速度 v 和加速度 a 无效\n",
    "    r = 0   #交融半径 (m)。用于指定路径的平滑效果\n",
    "    lebai.movel(cartesian_pose,a,v,t,r) #直线运动 https://help.lebai.ltd/sdk/motion.html#%E7%9B%B4%E7%BA%BF%E8%BF%90%E5%8A%A8\n",
    "    lebai.wait_move() #等待运动完成\n",
    "    print(\"y-移动完成\")"
   ]
  },
  {
   "cell_type": "code",
   "execution_count": null,
   "id": "d6dae3e2",
   "metadata": {},
   "outputs": [],
   "source": [
    "#z-移动\n",
    "async def z_left():\n",
    "    print(\"往y-移动\")\n",
    "    data=await lebai.get_kin_data()\n",
    "    #print(data)\n",
    "    #print(data['actual_joint_pose'])\n",
    "    # joint_pose = [0,-1.05,1.05,0,1.57,0] #目标位姿关节数据\n",
    "    # cartesian_pose = {'x' : -0.383, 'y' :-0.121, 'z' : 0.36, 'rz' : -1.57, 'ry' : 0, 'rx' : 1.57}#目标位姿笛卡尔数据\n",
    "    print(\"法兰盘坐标：\")\n",
    "    dict_flange=data['actual_flange_pose']['position']\n",
    "    \n",
    "    print(\"欧拉角：\")\n",
    "    dict_euler_now=data['actual_flange_pose']['rotation']['euler_zyx']\n",
    "    print(dict_euler_now)\n",
    "    #print(type(k))\n",
    "    keys=['rz','ry','rx']\n",
    "    values=[dict_euler_now['z'],dict_euler_now['y'],dict_euler_now['x']]\n",
    "    dict_euler_target=dict(zip(keys,values))\n",
    "    print(dict_euler_target)\n",
    "    cartesian_pose={**dict_flange,**dict_euler_target}\n",
    "    #print(cartesian_pose)\n",
    "    #print(cartesian_pose['x'])\n",
    "    y=cartesian_pose['y']\n",
    "    print(y)\n",
    "    if(z-0.05>-2):\n",
    "        cartesian_pose['y']=z-0.05\n",
    "    elif(z-0.05<-2):\n",
    "        print(\"超出边界\")\n",
    "    \n",
    "    a = 0.3 #空间加速度 (m/s2)\n",
    "    v = 0.1 #空间速度 （m/s）\n",
    "    t = 0   #运动时间 (s)。 当 t > 0 时，参数速度 v 和加速度 a 无效\n",
    "    r = 0   #交融半径 (m)。用于指定路径的平滑效果\n",
    "    lebai.movel(cartesian_pose,a,v,t,r) #直线运动 https://help.lebai.ltd/sdk/motion.html#%E7%9B%B4%E7%BA%BF%E8%BF%90%E5%8A%A8\n",
    "    lebai.wait_move() #等待运动完成\n",
    "    print(\"y-移动完成\")"
   ]
  },
  {
   "cell_type": "code",
   "execution_count": null,
   "id": "54a68df4",
   "metadata": {},
   "outputs": [],
   "source": [
    "#z+移动\n",
    "async def z_right():\n",
    "    print(\"往y-移动\")\n",
    "    data=await lebai.get_kin_data()\n",
    "    #print(data)\n",
    "    #print(data['actual_joint_pose'])\n",
    "    # joint_pose = [0,-1.05,1.05,0,1.57,0] #目标位姿关节数据\n",
    "    # cartesian_pose = {'x' : -0.383, 'y' :-0.121, 'z' : 0.36, 'rz' : -1.57, 'ry' : 0, 'rx' : 1.57}#目标位姿笛卡尔数据\n",
    "    print(\"法兰盘坐标：\")\n",
    "    dict_flange=data['actual_flange_pose']['position']\n",
    "    \n",
    "    print(\"欧拉角：\")\n",
    "    dict_euler_now=data['actual_flange_pose']['rotation']['euler_zyx']\n",
    "    print(dict_euler_now)\n",
    "    #print(type(k))\n",
    "    keys=['rz','ry','rx']\n",
    "    values=[dict_euler_now['z'],dict_euler_now['y'],dict_euler_now['x']]\n",
    "    dict_euler_target=dict(zip(keys,values))\n",
    "    print(dict_euler_target)\n",
    "    cartesian_pose={**dict_flange,**dict_euler_target}\n",
    "    #print(cartesian_pose)\n",
    "    #print(cartesian_pose['x'])\n",
    "    z=cartesian_pose['z']\n",
    "    print(z)\n",
    "    if(z-0.05>-2):\n",
    "        cartesian_pose['z']=z-0.05\n",
    "    elif(z-0.05<-2):\n",
    "        print(\"超出边界\")\n",
    "    \n",
    "    a = 0.3 #空间加速度 (m/s2)\n",
    "    v = 0.1 #空间速度 （m/s）\n",
    "    t = 0   #运动时间 (s)。 当 t > 0 时，参数速度 v 和加速度 a 无效\n",
    "    r = 0   #交融半径 (m)。用于指定路径的平滑效果\n",
    "    lebai.movel(cartesian_pose,a,v,t,r) #直线运动 https://help.lebai.ltd/sdk/motion.html#%E7%9B%B4%E7%BA%BF%E8%BF%90%E5%8A%A8\n",
    "    lebai.wait_move() #等待运动完成\n",
    "    print(\"z-移动完成\")"
   ]
  },
  {
   "cell_type": "code",
   "execution_count": 14,
   "id": "fed08378",
   "metadata": {
    "scrolled": true
   },
   "outputs": [],
   "source": [
    "#await x_right()"
   ]
  },
  {
   "cell_type": "code",
   "execution_count": 15,
   "id": "4597a35a",
   "metadata": {},
   "outputs": [],
   "source": [
    "# await y_right()"
   ]
  },
  {
   "cell_type": "code",
   "execution_count": null,
   "id": "16747a1f",
   "metadata": {},
   "outputs": [],
   "source": []
  },
  {
   "cell_type": "code",
   "execution_count": null,
   "id": "44413630",
   "metadata": {},
   "outputs": [],
   "source": []
  },
  {
   "cell_type": "code",
   "execution_count": null,
   "id": "6c5e41e9",
   "metadata": {},
   "outputs": [],
   "source": []
  },
  {
   "cell_type": "code",
   "execution_count": 16,
   "id": "a5dd2aeb",
   "metadata": {},
   "outputs": [],
   "source": [
    "async def z_down():\n",
    "    print(\"往z-移动\")\n",
    "    joint_pose = [-0.037870150700926766, 0.32549154842948447, 0.6361226579763268, -0.8806967198448438, 1.6284164801398509, -0.0011504855909142309] #目标位姿关节数据\n",
    "    cartesian_pose = {'x' : -0.493, 'y' :-0.099, 'z' : -0.196, 'rz' : -1.66, 'ry' : 0.005, 'rx' : 1.65}#目标位姿笛卡尔数据\n",
    "    a = 0.5 #关节加速度 (rad/s2)\n",
    "    v = 0.2 #关节速度 (rad/s)\n",
    "    t = 0   #运动时间 (s)。 当 t > 0 时，参数速度 v 和加速度 a 无效\n",
    "    r = 0   #交融半径 (m)。用于指定路径的平滑效果\n",
    "    lebai.movej(joint_pose,a,v,t,r)\n",
    "    time.sleep(10)\n",
    "    #lebai.set_claw(0,100)"
   ]
  },
  {
   "cell_type": "code",
   "execution_count": 17,
   "id": "f5f04117",
   "metadata": {},
   "outputs": [],
   "source": [
    "async def z_up():\n",
    "    print(\"往z+移动\")\n",
    "    # lebai.set_claw(40,20)\n",
    "    joint_pose = [0,-1.05,1.05,0,1.57,0] #目标位姿关节数据\n",
    "    cartesian_pose = {'x' : -0.383, 'y' :-0.121, 'z' : 0.36, 'rz' : -1.57, 'ry' : 0, 'rx' : 1.57}#目标位姿笛卡尔数据\n",
    "    a = 0.5 #关节加速度 (rad/s2)\n",
    "    v = 0.2 #关节速度 (rad/s)\n",
    "    t = 0   #运动时间 (s)。 当 t > 0 时，参数速度 v 和加速度 a 无效\n",
    "    r = 0   #交融半径 (m)。用于指定路径的平滑效果\n",
    "    lebai.movej(joint_pose,a,v,t,r) "
   ]
  },
  {
   "cell_type": "code",
   "execution_count": null,
   "id": "302db692",
   "metadata": {},
   "outputs": [],
   "source": []
  },
  {
   "cell_type": "markdown",
   "id": "3804ea5e",
   "metadata": {},
   "source": [
    "# 夹爪函数"
   ]
  },
  {
   "cell_type": "code",
   "execution_count": 18,
   "id": "993e350f",
   "metadata": {},
   "outputs": [],
   "source": [
    "#松开函数\n",
    "async def release():\n",
    "    lebai.set_claw(0,100)\n",
    "    print(\"夹爪松开\")"
   ]
  },
  {
   "cell_type": "code",
   "execution_count": 19,
   "id": "8afec4a8",
   "metadata": {},
   "outputs": [],
   "source": [
    "#夹紧函数\n",
    "async def clamp():\n",
    "    lebai.set_claw(40,20)\n",
    "    print(\"夹爪夹紧\")"
   ]
  },
  {
   "cell_type": "markdown",
   "id": "54982024",
   "metadata": {},
   "source": [
    "# 主函数"
   ]
  },
  {
   "cell_type": "code",
   "execution_count": 20,
   "id": "53f6baa4",
   "metadata": {},
   "outputs": [
    {
     "name": "stdout",
     "output_type": "stream",
     "text": [
      "[{'name': 'lebai-LLlzqh', 'mac': 'b4:4b:d6:5e:55:8c', 'ip': '192.168.0.50', 'online': True}]\n",
      "<builtins.Robot object at 0x7f31007a22f0>\n"
     ]
    },
    {
     "ename": "OSError",
     "evalue": "[Errno 98] Address already in use",
     "output_type": "error",
     "traceback": [
      "\u001b[0;31m---------------------------------------------------------------------------\u001b[0m",
      "\u001b[0;31mOSError\u001b[0m                                   Traceback (most recent call last)",
      "Cell \u001b[0;32mIn[20], line 20\u001b[0m\n\u001b[1;32m     18\u001b[0m port\u001b[38;5;241m=\u001b[39m\u001b[38;5;241m5673\u001b[39m\n\u001b[1;32m     19\u001b[0m s\u001b[38;5;241m=\u001b[39msocket\u001b[38;5;241m.\u001b[39msocket(socket\u001b[38;5;241m.\u001b[39mAF_INET,socket\u001b[38;5;241m.\u001b[39mSOCK_STREAM)\u001b[38;5;66;03m#声明socket类型面向连接\u001b[39;00m\n\u001b[0;32m---> 20\u001b[0m \u001b[43ms\u001b[49m\u001b[38;5;241;43m.\u001b[39;49m\u001b[43mbind\u001b[49m\u001b[43m(\u001b[49m\u001b[43m(\u001b[49m\u001b[43mhost\u001b[49m\u001b[43m,\u001b[49m\u001b[43mport\u001b[49m\u001b[43m)\u001b[49m\u001b[43m)\u001b[49m\n\u001b[1;32m     21\u001b[0m s\u001b[38;5;241m.\u001b[39mlisten(\u001b[38;5;241m3\u001b[39m)\n\u001b[1;32m     22\u001b[0m \u001b[38;5;28mprint\u001b[39m(\u001b[38;5;124m\"\u001b[39m\u001b[38;5;124m正在监听\u001b[39m\u001b[38;5;132;01m{}\u001b[39;00m\u001b[38;5;124m端口\u001b[39m\u001b[38;5;124m\"\u001b[39m\u001b[38;5;241m.\u001b[39mformat(port))\n",
      "\u001b[0;31mOSError\u001b[0m: [Errno 98] Address already in use"
     ]
    }
   ],
   "source": [
    "import socket\n",
    "import asyncio\n",
    "import lebai_sdk\n",
    "import time\n",
    "print(await lebai_sdk.discover_devices(2))\n",
    "robot_ip = \"192.168.0.50\" #设定机器人ip地址，需要根据机器人实际ip地址修改\n",
    "lebai = await lebai_sdk.connect(robot_ip, False) #创建实例\n",
    "#True是仿真模式\n",
    "print(lebai)\n",
    "await lebai.start_sys() #启动手臂\n",
    "\n",
    "\n",
    "language={'a':'x-','d':'x+','q':'y-','e':'y+','w':'z+','s':'z-','o':'o','p':'p','r':'r','k':'start','l':'stop'}\n",
    "#  a表示x-方向,d表示x+方向，w表示z+方向，s表示z-方向，\n",
    "#  o表示张开，p表示闭合\n",
    "#  r表示return初始化归位\n",
    "host='127.0.0.1'\n",
    "port=5673\n",
    "s=socket.socket(socket.AF_INET,socket.SOCK_STREAM)#声明socket类型面向连接\n",
    "s.bind((host,port))\n",
    "s.listen(3)\n",
    "print(\"正在监听{}端口\".format(port))\n",
    "conn,addr=s.accept()\n",
    "print(\"连接的地址和端口：{}\".format(addr))#打印监听的地址\n",
    "\n",
    "#初始化\n",
    "#await return_pose()\n",
    "\n",
    "while True:\n",
    "    data = conn.recv(2048)\n",
    "    data=data.decode()\n",
    "    if not data:\n",
    "        break\n",
    "    print(\"接收到的数据为：{}\".format(data))#打印接受到的数据\n",
    "    if(data=='s'):#z放下\n",
    "        await z_down()\n",
    "    elif(data=='w'):#z夹上\n",
    "        await z_up()\n",
    "    elif(data=='q'):#y-\n",
    "        await y_left()\n",
    "    elif(data=='e'): #y+\n",
    "        await y_right()\n",
    "    elif(data=='a'):# x-\n",
    "        await x_left()\n",
    "    elif(data=='d'):# x+\n",
    "        await x_right()\n",
    "    elif(data=='o'):#释放\n",
    "        await release()\n",
    "    elif(data=='p'):#夹紧\n",
    "        await clamp()\n",
    "    elif(data=='r'):#归位\n",
    "        await return_pose()\n",
    "    elif(data=='k'):#启动\n",
    "        await lebai.start_sys()\n",
    "    elif(data=='l'):#关闭\n",
    "        await lebai.stop_sys()        \n",
    "    conn.sendall(language.get(data,'Nothing').encode())\n",
    "conn.close()\n",
    "s.close()"
   ]
  },
  {
   "cell_type": "code",
   "execution_count": null,
   "id": "46a65f74",
   "metadata": {},
   "outputs": [],
   "source": []
  },
  {
   "cell_type": "code",
   "execution_count": null,
   "id": "b5b208a5",
   "metadata": {},
   "outputs": [],
   "source": []
  }
 ],
 "metadata": {
  "kernelspec": {
   "display_name": "Python 3 (ipykernel)",
   "language": "python",
   "name": "python3"
  },
  "language_info": {
   "codemirror_mode": {
    "name": "ipython",
    "version": 3
   },
   "file_extension": ".py",
   "mimetype": "text/x-python",
   "name": "python",
   "nbconvert_exporter": "python",
   "pygments_lexer": "ipython3",
   "version": "3.8.17"
  }
 },
 "nbformat": 4,
 "nbformat_minor": 5
}
